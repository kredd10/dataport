{
 "cells": [
  {
   "cell_type": "markdown",
   "metadata": {},
   "source": [
    "data cleaning for dataset from glassdoor"
   ]
  },
  {
   "cell_type": "code",
   "execution_count": null,
   "metadata": {},
   "outputs": [
    {
     "name": "stderr",
     "output_type": "stream",
     "text": [
      "C:\\Users\\manir\\AppData\\Roaming\\Python\\Python312\\site-packages\\tqdm\\auto.py:21: TqdmWarning: IProgress not found. Please update jupyter and ipywidgets. See https://ipywidgets.readthedocs.io/en/stable/user_install.html\n",
      "  from .autonotebook import tqdm as notebook_tqdm\n"
     ]
    },
    {
     "name": "stdout",
     "output_type": "stream",
     "text": [
      "Downloading from https://www.kaggle.com/api/v1/datasets/download/rashikrahmanpritom/data-science-job-posting-on-glassdoor?dataset_version_number=1...\n"
     ]
    },
    {
     "name": "stderr",
     "output_type": "stream",
     "text": [
      "100%|██████████| 1.53M/1.53M [00:00<00:00, 8.61MB/s]"
     ]
    },
    {
     "name": "stdout",
     "output_type": "stream",
     "text": [
      "Extracting files...\n",
      "Path to dataset files: C:\\Users\\manir\\.cache\\kagglehub\\datasets\\rashikrahmanpritom\\data-science-job-posting-on-glassdoor\\versions\\1\n"
     ]
    },
    {
     "name": "stderr",
     "output_type": "stream",
     "text": [
      "\n"
     ]
    }
   ],
   "source": [
    "# import kagglehub\n",
    "\n",
    "# # Download latest version\n",
    "# path = kagglehub.dataset_download(\"rashikrahmanpritom/data-science-job-posting-on-glassdoor\")\n",
    "\n",
    "# print(\"Path to dataset files:\", path)"
   ]
  },
  {
   "cell_type": "code",
   "execution_count": 3,
   "metadata": {},
   "outputs": [],
   "source": [
    "import pandas as pd\n",
    "\n",
    "# Replace 'path_to_your_file.csv' with the actual file path\n",
    "df = pd.read_csv(r'C:\\Users\\manir\\.cache\\kagglehub\\datasets\\rashikrahmanpritom\\data-science-job-posting-on-glassdoor\\versions\\1\\Uncleaned_DS_jobs.csv')\n"
   ]
  },
  {
   "cell_type": "code",
   "execution_count": 4,
   "metadata": {},
   "outputs": [
    {
     "name": "stdout",
     "output_type": "stream",
     "text": [
      "   index          Job Title               Salary Estimate  \\\n",
      "0      0  Sr Data Scientist  $137K-$171K (Glassdoor est.)   \n",
      "1      1     Data Scientist  $137K-$171K (Glassdoor est.)   \n",
      "2      2     Data Scientist  $137K-$171K (Glassdoor est.)   \n",
      "3      3     Data Scientist  $137K-$171K (Glassdoor est.)   \n",
      "4      4     Data Scientist  $137K-$171K (Glassdoor est.)   \n",
      "\n",
      "                                     Job Description  Rating  \\\n",
      "0  Description\\n\\nThe Senior Data Scientist is re...     3.1   \n",
      "1  Secure our Nation, Ignite your Future\\n\\nJoin ...     4.2   \n",
      "2  Overview\\n\\n\\nAnalysis Group is one of the lar...     3.8   \n",
      "3  JOB DESCRIPTION:\\n\\nDo you have a passion for ...     3.5   \n",
      "4  Data Scientist\\nAffinity Solutions / Marketing...     2.9   \n",
      "\n",
      "              Company Name       Location            Headquarters  \\\n",
      "0         Healthfirst\\n3.1   New York, NY            New York, NY   \n",
      "1             ManTech\\n4.2  Chantilly, VA             Herndon, VA   \n",
      "2      Analysis Group\\n3.8     Boston, MA              Boston, MA   \n",
      "3             INFICON\\n3.5     Newton, MA  Bad Ragaz, Switzerland   \n",
      "4  Affinity Solutions\\n2.9   New York, NY            New York, NY   \n",
      "\n",
      "                      Size  Founded        Type of ownership  \\\n",
      "0   1001 to 5000 employees     1993   Nonprofit Organization   \n",
      "1  5001 to 10000 employees     1968         Company - Public   \n",
      "2   1001 to 5000 employees     1981  Private Practice / Firm   \n",
      "3    501 to 1000 employees     2000         Company - Public   \n",
      "4      51 to 200 employees     1998        Company - Private   \n",
      "\n",
      "                                Industry             Sector  \\\n",
      "0                     Insurance Carriers          Insurance   \n",
      "1                 Research & Development  Business Services   \n",
      "2                             Consulting  Business Services   \n",
      "3  Electrical & Electronic Manufacturing      Manufacturing   \n",
      "4                Advertising & Marketing  Business Services   \n",
      "\n",
      "                      Revenue  \\\n",
      "0    Unknown / Non-Applicable   \n",
      "1      $1 to $2 billion (USD)   \n",
      "2  $100 to $500 million (USD)   \n",
      "3  $100 to $500 million (USD)   \n",
      "4    Unknown / Non-Applicable   \n",
      "\n",
      "                                         Competitors  \n",
      "0            EmblemHealth, UnitedHealth Group, Aetna  \n",
      "1                                                 -1  \n",
      "2                                                 -1  \n",
      "3  MKS Instruments, Pfeiffer Vacuum, Agilent Tech...  \n",
      "4               Commerce Signals, Cardlytics, Yodlee  \n"
     ]
    }
   ],
   "source": [
    "# Display the first few rows to understand the structure of the dataset\n",
    "print(df.head())\n"
   ]
  },
  {
   "cell_type": "code",
   "execution_count": 15,
   "metadata": {},
   "outputs": [],
   "source": [
    "# Remove any text in parentheses\n",
    "df['Salary Estimate'] = df['Salary Estimate'].str.replace(r'\\(.*\\)', '', regex=True)\n",
    "\n",
    "# Remove 'K' and '$' symbols, then split the range into lower and upper bounds\n",
    "salary_split = df['Salary Estimate'].str.replace('K', '').str.replace('$', '').str.split('-')\n",
    "\n",
    "# Convert lower and upper bounds to integers and calculate the average\n",
    "df['min_salary'] = salary_split.str[0].astype(float)\n",
    "df['max_salary'] = salary_split.str[1].astype(float)\n",
    "df['avg_salary'] = (df['min_salary'] + df['max_salary']) / 2\n",
    "\n"
   ]
  },
  {
   "cell_type": "code",
   "execution_count": 17,
   "metadata": {},
   "outputs": [],
   "source": [
    "# Replace 'job_description' with 'Job Description'\n",
    "df['python_skill'] = df['Job Description'].str.contains('Python', case=False, na=False)\n",
    "df['sql_skill'] = df['Job Description'].str.contains('SQL', case=False, na=False)\n",
    "\n"
   ]
  },
  {
   "cell_type": "code",
   "execution_count": 19,
   "metadata": {},
   "outputs": [],
   "source": [
    "# Replace 'company_name' with 'Company Name'\n",
    "df['Company Name'] = df['Company Name'].str.replace(r'\\d+', '', regex=True)\n",
    "\n"
   ]
  },
  {
   "cell_type": "code",
   "execution_count": 22,
   "metadata": {},
   "outputs": [],
   "source": [
    "# Split 'Location' column into two separate columns: 'city' and 'state'\n",
    "location_split = df['Location'].str.split(', ', expand=True)\n",
    "\n",
    "# Assign the results to new columns, handling cases where there's only one part\n",
    "df['city'] = location_split[0]\n",
    "df['state'] = location_split[1]\n"
   ]
  },
  {
   "cell_type": "code",
   "execution_count": 23,
   "metadata": {},
   "outputs": [
    {
     "name": "stdout",
     "output_type": "stream",
     "text": [
      "   index          Job Title Salary Estimate  \\\n",
      "0      0  Sr Data Scientist      137K-171K    \n",
      "1      1     Data Scientist      137K-171K    \n",
      "2      2     Data Scientist      137K-171K    \n",
      "3      3     Data Scientist      137K-171K    \n",
      "4      4     Data Scientist      137K-171K    \n",
      "\n",
      "                                     Job Description  Rating  \\\n",
      "0  Description\\n\\nThe Senior Data Scientist is re...     3.1   \n",
      "1  Secure our Nation, Ignite your Future\\n\\nJoin ...     4.2   \n",
      "2  Overview\\n\\n\\nAnalysis Group is one of the lar...     3.8   \n",
      "3  JOB DESCRIPTION:\\n\\nDo you have a passion for ...     3.5   \n",
      "4  Data Scientist\\nAffinity Solutions / Marketing...     2.9   \n",
      "\n",
      "            Company Name       Location            Headquarters  \\\n",
      "0         Healthfirst\\n.   New York, NY            New York, NY   \n",
      "1             ManTech\\n.  Chantilly, VA             Herndon, VA   \n",
      "2      Analysis Group\\n.     Boston, MA              Boston, MA   \n",
      "3             INFICON\\n.     Newton, MA  Bad Ragaz, Switzerland   \n",
      "4  Affinity Solutions\\n.   New York, NY            New York, NY   \n",
      "\n",
      "                      Size  Founded  ...             Sector  \\\n",
      "0   1001 to 5000 employees     1993  ...          Insurance   \n",
      "1  5001 to 10000 employees     1968  ...  Business Services   \n",
      "2   1001 to 5000 employees     1981  ...  Business Services   \n",
      "3    501 to 1000 employees     2000  ...      Manufacturing   \n",
      "4      51 to 200 employees     1998  ...  Business Services   \n",
      "\n",
      "                      Revenue  \\\n",
      "0    Unknown / Non-Applicable   \n",
      "1      $1 to $2 billion (USD)   \n",
      "2  $100 to $500 million (USD)   \n",
      "3  $100 to $500 million (USD)   \n",
      "4    Unknown / Non-Applicable   \n",
      "\n",
      "                                         Competitors min_salary max_salary  \\\n",
      "0            EmblemHealth, UnitedHealth Group, Aetna      137.0      171.0   \n",
      "1                                                 -1      137.0      171.0   \n",
      "2                                                 -1      137.0      171.0   \n",
      "3  MKS Instruments, Pfeiffer Vacuum, Agilent Tech...      137.0      171.0   \n",
      "4               Commerce Signals, Cardlytics, Yodlee      137.0      171.0   \n",
      "\n",
      "   avg_salary  python_skill  sql_skill       city  state  \n",
      "0       154.0         False      False   New York     NY  \n",
      "1       154.0         False       True  Chantilly     VA  \n",
      "2       154.0          True      False     Boston     MA  \n",
      "3       154.0          True       True     Newton     MA  \n",
      "4       154.0          True       True   New York     NY  \n",
      "\n",
      "[5 rows x 22 columns]\n"
     ]
    }
   ],
   "source": [
    "print(df.head())\n"
   ]
  },
  {
   "cell_type": "markdown",
   "metadata": {},
   "source": [
    "Dataset Cleaning Summary\n",
    "The dataset has been cleaned and transformed based on the initial requirements. Below are the details of the transformations applied:\n",
    "\n",
    "1. Salary Conversion\n",
    "Extracted minimum and maximum salary values from the Salary Estimate column.\n",
    "Created new columns:\n",
    "min_salary: Minimum salary from the estimate.\n",
    "max_salary: Maximum salary from the estimate.\n",
    "avg_salary: Calculated average salary.\n",
    "2. Skill Extraction\n",
    "Added new columns based on keyword presence in the Job Description column:\n",
    "python_skill: Indicates if \"Python\" is mentioned.\n",
    "sql_skill: Indicates if \"SQL\" is mentioned.\n",
    "3. Company Name Cleanup\n",
    "Removed unwanted trailing characters (e.g., \\n.) from Company Name for consistency and cleaner presentation.\n",
    "4. Location Split\n",
    "Split the Location column into separate city and state columns for more granular analysis."
   ]
  }
 ],
 "metadata": {
  "kernelspec": {
   "display_name": "Python 3",
   "language": "python",
   "name": "python3"
  },
  "language_info": {
   "codemirror_mode": {
    "name": "ipython",
    "version": 3
   },
   "file_extension": ".py",
   "mimetype": "text/x-python",
   "name": "python",
   "nbconvert_exporter": "python",
   "pygments_lexer": "ipython3",
   "version": "3.12.6"
  }
 },
 "nbformat": 4,
 "nbformat_minor": 2
}
